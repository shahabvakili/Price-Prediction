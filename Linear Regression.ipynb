{
 "cells": [
  {
   "cell_type": "markdown",
   "id": "04ba90b2",
   "metadata": {},
   "source": [
    "# Machine Learning Regression Project\n",
    "\n",
    "### Car Price Prediction Using Linear Regression Algorithm"
   ]
  },
  {
   "cell_type": "code",
   "execution_count": 167,
   "id": "852b2162",
   "metadata": {},
   "outputs": [],
   "source": [
    "import numpy as np\n",
    "import pandas as pd\n",
    "import matplotlib.pyplot as plt\n",
    "import seaborn as sns\n",
    "from sklearn.model_selection import train_test_split\n",
    "from sklearn.linear_model import LinearRegression\n",
    "from sklearn import metrics\n",
    "from sklearn.model_selection import KFold\n",
    "from sklearn.model_selection import cross_val_score\n",
    "import warnings\n",
    "warnings.simplefilter(action='ignore')"
   ]
  },
  {
   "cell_type": "code",
   "execution_count": 168,
   "id": "ae33de50",
   "metadata": {},
   "outputs": [
    {
     "data": {
      "text/html": [
       "<div>\n",
       "<style scoped>\n",
       "    .dataframe tbody tr th:only-of-type {\n",
       "        vertical-align: middle;\n",
       "    }\n",
       "\n",
       "    .dataframe tbody tr th {\n",
       "        vertical-align: top;\n",
       "    }\n",
       "\n",
       "    .dataframe thead th {\n",
       "        text-align: right;\n",
       "    }\n",
       "</style>\n",
       "<table border=\"1\" class=\"dataframe\">\n",
       "  <thead>\n",
       "    <tr style=\"text-align: right;\">\n",
       "      <th></th>\n",
       "      <th>Car_Name</th>\n",
       "      <th>Year</th>\n",
       "      <th>Selling_Price</th>\n",
       "      <th>Present_Price</th>\n",
       "      <th>Kms_Driven</th>\n",
       "      <th>Fuel_Type</th>\n",
       "      <th>Seller_Type</th>\n",
       "      <th>Transmission</th>\n",
       "      <th>Owner</th>\n",
       "    </tr>\n",
       "  </thead>\n",
       "  <tbody>\n",
       "    <tr>\n",
       "      <th>0</th>\n",
       "      <td>ritz</td>\n",
       "      <td>2014</td>\n",
       "      <td>3.35</td>\n",
       "      <td>5.59</td>\n",
       "      <td>27000</td>\n",
       "      <td>Petrol</td>\n",
       "      <td>Dealer</td>\n",
       "      <td>Manual</td>\n",
       "      <td>0</td>\n",
       "    </tr>\n",
       "    <tr>\n",
       "      <th>1</th>\n",
       "      <td>sx4</td>\n",
       "      <td>2013</td>\n",
       "      <td>4.75</td>\n",
       "      <td>9.54</td>\n",
       "      <td>43000</td>\n",
       "      <td>Diesel</td>\n",
       "      <td>Dealer</td>\n",
       "      <td>Manual</td>\n",
       "      <td>0</td>\n",
       "    </tr>\n",
       "    <tr>\n",
       "      <th>2</th>\n",
       "      <td>ciaz</td>\n",
       "      <td>2017</td>\n",
       "      <td>7.25</td>\n",
       "      <td>9.85</td>\n",
       "      <td>6900</td>\n",
       "      <td>Petrol</td>\n",
       "      <td>Dealer</td>\n",
       "      <td>Manual</td>\n",
       "      <td>0</td>\n",
       "    </tr>\n",
       "    <tr>\n",
       "      <th>3</th>\n",
       "      <td>wagon r</td>\n",
       "      <td>2011</td>\n",
       "      <td>2.85</td>\n",
       "      <td>4.15</td>\n",
       "      <td>5200</td>\n",
       "      <td>Petrol</td>\n",
       "      <td>Dealer</td>\n",
       "      <td>Manual</td>\n",
       "      <td>0</td>\n",
       "    </tr>\n",
       "    <tr>\n",
       "      <th>4</th>\n",
       "      <td>swift</td>\n",
       "      <td>2014</td>\n",
       "      <td>4.60</td>\n",
       "      <td>6.87</td>\n",
       "      <td>42450</td>\n",
       "      <td>Diesel</td>\n",
       "      <td>Dealer</td>\n",
       "      <td>Manual</td>\n",
       "      <td>0</td>\n",
       "    </tr>\n",
       "    <tr>\n",
       "      <th>5</th>\n",
       "      <td>vitara brezza</td>\n",
       "      <td>2018</td>\n",
       "      <td>9.25</td>\n",
       "      <td>9.83</td>\n",
       "      <td>2071</td>\n",
       "      <td>Diesel</td>\n",
       "      <td>Dealer</td>\n",
       "      <td>Manual</td>\n",
       "      <td>0</td>\n",
       "    </tr>\n",
       "    <tr>\n",
       "      <th>6</th>\n",
       "      <td>ciaz</td>\n",
       "      <td>2015</td>\n",
       "      <td>6.75</td>\n",
       "      <td>8.12</td>\n",
       "      <td>18796</td>\n",
       "      <td>Petrol</td>\n",
       "      <td>Dealer</td>\n",
       "      <td>Manual</td>\n",
       "      <td>0</td>\n",
       "    </tr>\n",
       "    <tr>\n",
       "      <th>7</th>\n",
       "      <td>s cross</td>\n",
       "      <td>2015</td>\n",
       "      <td>6.50</td>\n",
       "      <td>8.61</td>\n",
       "      <td>33429</td>\n",
       "      <td>Diesel</td>\n",
       "      <td>Dealer</td>\n",
       "      <td>Manual</td>\n",
       "      <td>0</td>\n",
       "    </tr>\n",
       "  </tbody>\n",
       "</table>\n",
       "</div>"
      ],
      "text/plain": [
       "        Car_Name  Year  Selling_Price  Present_Price  Kms_Driven Fuel_Type  \\\n",
       "0           ritz  2014           3.35           5.59       27000    Petrol   \n",
       "1            sx4  2013           4.75           9.54       43000    Diesel   \n",
       "2           ciaz  2017           7.25           9.85        6900    Petrol   \n",
       "3        wagon r  2011           2.85           4.15        5200    Petrol   \n",
       "4          swift  2014           4.60           6.87       42450    Diesel   \n",
       "5  vitara brezza  2018           9.25           9.83        2071    Diesel   \n",
       "6           ciaz  2015           6.75           8.12       18796    Petrol   \n",
       "7        s cross  2015           6.50           8.61       33429    Diesel   \n",
       "\n",
       "  Seller_Type Transmission  Owner  \n",
       "0      Dealer       Manual      0  \n",
       "1      Dealer       Manual      0  \n",
       "2      Dealer       Manual      0  \n",
       "3      Dealer       Manual      0  \n",
       "4      Dealer       Manual      0  \n",
       "5      Dealer       Manual      0  \n",
       "6      Dealer       Manual      0  \n",
       "7      Dealer       Manual      0  "
      ]
     },
     "execution_count": 168,
     "metadata": {},
     "output_type": "execute_result"
    }
   ],
   "source": [
    "Data = pd.read_csv (\"G:/cardata.CSV\")       # call the file\n",
    "df = pd.DataFrame (Data)        # cinvert the file to dataframe\n",
    "df.head(8)"
   ]
  },
  {
   "cell_type": "markdown",
   "id": "581cfc40",
   "metadata": {},
   "source": [
    "# Columns :\n",
    "\n",
    "- Car_Name : Name of The Car\n",
    "\n",
    "- Year : Year of The Car When it Was Bought\n",
    "\n",
    "- Selling_Price : Price at Which The Car is Being Sold\n",
    "\n",
    "- Present_Price : \n",
    "\n",
    "- Kms_Driven : Number of Kilometres The Car is Driven\n",
    "\n",
    "- Fuel_Type : Fuel Type of Car\n",
    "\n",
    "- Seller_Type : Tells if a Seller is individual or Dealer\n",
    "\n",
    "- Transmission : Gear Transmission of The Car \n",
    "\n",
    "- Owner : Number of Previous Owner of The Car"
   ]
  },
  {
   "cell_type": "code",
   "execution_count": 169,
   "id": "69e7c409",
   "metadata": {},
   "outputs": [
    {
     "data": {
      "text/plain": [
       "(301, 9)"
      ]
     },
     "execution_count": 169,
     "metadata": {},
     "output_type": "execute_result"
    }
   ],
   "source": [
    "df.shape"
   ]
  },
  {
   "cell_type": "code",
   "execution_count": 170,
   "id": "907ad487",
   "metadata": {},
   "outputs": [
    {
     "data": {
      "text/html": [
       "<div>\n",
       "<style scoped>\n",
       "    .dataframe tbody tr th:only-of-type {\n",
       "        vertical-align: middle;\n",
       "    }\n",
       "\n",
       "    .dataframe tbody tr th {\n",
       "        vertical-align: top;\n",
       "    }\n",
       "\n",
       "    .dataframe thead th {\n",
       "        text-align: right;\n",
       "    }\n",
       "</style>\n",
       "<table border=\"1\" class=\"dataframe\">\n",
       "  <thead>\n",
       "    <tr style=\"text-align: right;\">\n",
       "      <th></th>\n",
       "      <th>Car_Name</th>\n",
       "      <th>Year</th>\n",
       "      <th>Selling_Price</th>\n",
       "      <th>Present_Price</th>\n",
       "      <th>Kms_Driven</th>\n",
       "      <th>Fuel_Type</th>\n",
       "      <th>Seller_Type</th>\n",
       "      <th>Transmission</th>\n",
       "      <th>Owner</th>\n",
       "    </tr>\n",
       "  </thead>\n",
       "  <tbody>\n",
       "    <tr>\n",
       "      <th>count</th>\n",
       "      <td>301</td>\n",
       "      <td>301.000000</td>\n",
       "      <td>301.000000</td>\n",
       "      <td>301.000000</td>\n",
       "      <td>301.000000</td>\n",
       "      <td>301</td>\n",
       "      <td>301</td>\n",
       "      <td>301</td>\n",
       "      <td>301.000000</td>\n",
       "    </tr>\n",
       "    <tr>\n",
       "      <th>unique</th>\n",
       "      <td>98</td>\n",
       "      <td>NaN</td>\n",
       "      <td>NaN</td>\n",
       "      <td>NaN</td>\n",
       "      <td>NaN</td>\n",
       "      <td>3</td>\n",
       "      <td>2</td>\n",
       "      <td>2</td>\n",
       "      <td>NaN</td>\n",
       "    </tr>\n",
       "    <tr>\n",
       "      <th>top</th>\n",
       "      <td>city</td>\n",
       "      <td>NaN</td>\n",
       "      <td>NaN</td>\n",
       "      <td>NaN</td>\n",
       "      <td>NaN</td>\n",
       "      <td>Petrol</td>\n",
       "      <td>Dealer</td>\n",
       "      <td>Manual</td>\n",
       "      <td>NaN</td>\n",
       "    </tr>\n",
       "    <tr>\n",
       "      <th>freq</th>\n",
       "      <td>26</td>\n",
       "      <td>NaN</td>\n",
       "      <td>NaN</td>\n",
       "      <td>NaN</td>\n",
       "      <td>NaN</td>\n",
       "      <td>239</td>\n",
       "      <td>195</td>\n",
       "      <td>261</td>\n",
       "      <td>NaN</td>\n",
       "    </tr>\n",
       "    <tr>\n",
       "      <th>mean</th>\n",
       "      <td>NaN</td>\n",
       "      <td>2013.627907</td>\n",
       "      <td>4.661296</td>\n",
       "      <td>7.628472</td>\n",
       "      <td>36947.205980</td>\n",
       "      <td>NaN</td>\n",
       "      <td>NaN</td>\n",
       "      <td>NaN</td>\n",
       "      <td>0.043189</td>\n",
       "    </tr>\n",
       "    <tr>\n",
       "      <th>std</th>\n",
       "      <td>NaN</td>\n",
       "      <td>2.891554</td>\n",
       "      <td>5.082812</td>\n",
       "      <td>8.644115</td>\n",
       "      <td>38886.883882</td>\n",
       "      <td>NaN</td>\n",
       "      <td>NaN</td>\n",
       "      <td>NaN</td>\n",
       "      <td>0.247915</td>\n",
       "    </tr>\n",
       "    <tr>\n",
       "      <th>min</th>\n",
       "      <td>NaN</td>\n",
       "      <td>2003.000000</td>\n",
       "      <td>0.100000</td>\n",
       "      <td>0.320000</td>\n",
       "      <td>500.000000</td>\n",
       "      <td>NaN</td>\n",
       "      <td>NaN</td>\n",
       "      <td>NaN</td>\n",
       "      <td>0.000000</td>\n",
       "    </tr>\n",
       "    <tr>\n",
       "      <th>25%</th>\n",
       "      <td>NaN</td>\n",
       "      <td>2012.000000</td>\n",
       "      <td>0.900000</td>\n",
       "      <td>1.200000</td>\n",
       "      <td>15000.000000</td>\n",
       "      <td>NaN</td>\n",
       "      <td>NaN</td>\n",
       "      <td>NaN</td>\n",
       "      <td>0.000000</td>\n",
       "    </tr>\n",
       "    <tr>\n",
       "      <th>50%</th>\n",
       "      <td>NaN</td>\n",
       "      <td>2014.000000</td>\n",
       "      <td>3.600000</td>\n",
       "      <td>6.400000</td>\n",
       "      <td>32000.000000</td>\n",
       "      <td>NaN</td>\n",
       "      <td>NaN</td>\n",
       "      <td>NaN</td>\n",
       "      <td>0.000000</td>\n",
       "    </tr>\n",
       "    <tr>\n",
       "      <th>75%</th>\n",
       "      <td>NaN</td>\n",
       "      <td>2016.000000</td>\n",
       "      <td>6.000000</td>\n",
       "      <td>9.900000</td>\n",
       "      <td>48767.000000</td>\n",
       "      <td>NaN</td>\n",
       "      <td>NaN</td>\n",
       "      <td>NaN</td>\n",
       "      <td>0.000000</td>\n",
       "    </tr>\n",
       "    <tr>\n",
       "      <th>max</th>\n",
       "      <td>NaN</td>\n",
       "      <td>2018.000000</td>\n",
       "      <td>35.000000</td>\n",
       "      <td>92.600000</td>\n",
       "      <td>500000.000000</td>\n",
       "      <td>NaN</td>\n",
       "      <td>NaN</td>\n",
       "      <td>NaN</td>\n",
       "      <td>3.000000</td>\n",
       "    </tr>\n",
       "  </tbody>\n",
       "</table>\n",
       "</div>"
      ],
      "text/plain": [
       "       Car_Name         Year  Selling_Price  Present_Price     Kms_Driven  \\\n",
       "count       301   301.000000     301.000000     301.000000     301.000000   \n",
       "unique       98          NaN            NaN            NaN            NaN   \n",
       "top        city          NaN            NaN            NaN            NaN   \n",
       "freq         26          NaN            NaN            NaN            NaN   \n",
       "mean        NaN  2013.627907       4.661296       7.628472   36947.205980   \n",
       "std         NaN     2.891554       5.082812       8.644115   38886.883882   \n",
       "min         NaN  2003.000000       0.100000       0.320000     500.000000   \n",
       "25%         NaN  2012.000000       0.900000       1.200000   15000.000000   \n",
       "50%         NaN  2014.000000       3.600000       6.400000   32000.000000   \n",
       "75%         NaN  2016.000000       6.000000       9.900000   48767.000000   \n",
       "max         NaN  2018.000000      35.000000      92.600000  500000.000000   \n",
       "\n",
       "       Fuel_Type Seller_Type Transmission       Owner  \n",
       "count        301         301          301  301.000000  \n",
       "unique         3           2            2         NaN  \n",
       "top       Petrol      Dealer       Manual         NaN  \n",
       "freq         239         195          261         NaN  \n",
       "mean         NaN         NaN          NaN    0.043189  \n",
       "std          NaN         NaN          NaN    0.247915  \n",
       "min          NaN         NaN          NaN    0.000000  \n",
       "25%          NaN         NaN          NaN    0.000000  \n",
       "50%          NaN         NaN          NaN    0.000000  \n",
       "75%          NaN         NaN          NaN    0.000000  \n",
       "max          NaN         NaN          NaN    3.000000  "
      ]
     },
     "execution_count": 170,
     "metadata": {},
     "output_type": "execute_result"
    }
   ],
   "source": [
    "df.describe (include='all')      # describe the data"
   ]
  },
  {
   "cell_type": "code",
   "execution_count": 171,
   "id": "fe2d5c7d",
   "metadata": {},
   "outputs": [
    {
     "data": {
      "text/plain": [
       "Car_Name         0\n",
       "Year             0\n",
       "Selling_Price    0\n",
       "Present_Price    0\n",
       "Kms_Driven       0\n",
       "Fuel_Type        0\n",
       "Seller_Type      0\n",
       "Transmission     0\n",
       "Owner            0\n",
       "dtype: int64"
      ]
     },
     "execution_count": 171,
     "metadata": {},
     "output_type": "execute_result"
    }
   ],
   "source": [
    "df.isna().sum()     # check if we have missing values or not"
   ]
  },
  {
   "cell_type": "code",
   "execution_count": 172,
   "id": "bee8437f",
   "metadata": {},
   "outputs": [
    {
     "name": "stdout",
     "output_type": "stream",
     "text": [
      "<class 'pandas.core.frame.DataFrame'>\n",
      "RangeIndex: 301 entries, 0 to 300\n",
      "Data columns (total 9 columns):\n",
      " #   Column         Non-Null Count  Dtype  \n",
      "---  ------         --------------  -----  \n",
      " 0   Car_Name       301 non-null    object \n",
      " 1   Year           301 non-null    int64  \n",
      " 2   Selling_Price  301 non-null    float64\n",
      " 3   Present_Price  301 non-null    float64\n",
      " 4   Kms_Driven     301 non-null    int64  \n",
      " 5   Fuel_Type      301 non-null    object \n",
      " 6   Seller_Type    301 non-null    object \n",
      " 7   Transmission   301 non-null    object \n",
      " 8   Owner          301 non-null    int64  \n",
      "dtypes: float64(2), int64(3), object(4)\n",
      "memory usage: 21.3+ KB\n"
     ]
    }
   ],
   "source": [
    "df.info()"
   ]
  },
  {
   "cell_type": "code",
   "execution_count": 173,
   "id": "2741d34e",
   "metadata": {},
   "outputs": [
    {
     "data": {
      "text/plain": [
       "False    299\n",
       "True       2\n",
       "dtype: int64"
      ]
     },
     "execution_count": 173,
     "metadata": {},
     "output_type": "execute_result"
    }
   ],
   "source": [
    "df.duplicated().value_counts()"
   ]
  },
  {
   "cell_type": "markdown",
   "id": "e034bc29",
   "metadata": {},
   "source": [
    "# preprocessing"
   ]
  },
  {
   "cell_type": "markdown",
   "id": "f256715a",
   "metadata": {},
   "source": [
    "- Here get the age of the car from the year of production and replace it\n",
    "- also remove the car name column"
   ]
  },
  {
   "cell_type": "code",
   "execution_count": 174,
   "id": "cb3f118b",
   "metadata": {},
   "outputs": [
    {
     "data": {
      "text/plain": [
       "2018"
      ]
     },
     "execution_count": 174,
     "metadata": {},
     "output_type": "execute_result"
    }
   ],
   "source": [
    "np.max(df['Year'])"
   ]
  },
  {
   "cell_type": "code",
   "execution_count": 175,
   "id": "2916120c",
   "metadata": {
    "scrolled": true
   },
   "outputs": [
    {
     "data": {
      "text/html": [
       "<div>\n",
       "<style scoped>\n",
       "    .dataframe tbody tr th:only-of-type {\n",
       "        vertical-align: middle;\n",
       "    }\n",
       "\n",
       "    .dataframe tbody tr th {\n",
       "        vertical-align: top;\n",
       "    }\n",
       "\n",
       "    .dataframe thead th {\n",
       "        text-align: right;\n",
       "    }\n",
       "</style>\n",
       "<table border=\"1\" class=\"dataframe\">\n",
       "  <thead>\n",
       "    <tr style=\"text-align: right;\">\n",
       "      <th></th>\n",
       "      <th>Age</th>\n",
       "      <th>Selling_Price</th>\n",
       "      <th>Present_Price</th>\n",
       "      <th>Kms_Driven</th>\n",
       "      <th>Fuel_Type</th>\n",
       "      <th>Seller_Type</th>\n",
       "      <th>Transmission</th>\n",
       "      <th>Owner</th>\n",
       "    </tr>\n",
       "  </thead>\n",
       "  <tbody>\n",
       "    <tr>\n",
       "      <th>0</th>\n",
       "      <td>5</td>\n",
       "      <td>3.35</td>\n",
       "      <td>5.59</td>\n",
       "      <td>27000</td>\n",
       "      <td>Petrol</td>\n",
       "      <td>Dealer</td>\n",
       "      <td>Manual</td>\n",
       "      <td>0</td>\n",
       "    </tr>\n",
       "    <tr>\n",
       "      <th>1</th>\n",
       "      <td>6</td>\n",
       "      <td>4.75</td>\n",
       "      <td>9.54</td>\n",
       "      <td>43000</td>\n",
       "      <td>Diesel</td>\n",
       "      <td>Dealer</td>\n",
       "      <td>Manual</td>\n",
       "      <td>0</td>\n",
       "    </tr>\n",
       "    <tr>\n",
       "      <th>2</th>\n",
       "      <td>2</td>\n",
       "      <td>7.25</td>\n",
       "      <td>9.85</td>\n",
       "      <td>6900</td>\n",
       "      <td>Petrol</td>\n",
       "      <td>Dealer</td>\n",
       "      <td>Manual</td>\n",
       "      <td>0</td>\n",
       "    </tr>\n",
       "    <tr>\n",
       "      <th>3</th>\n",
       "      <td>8</td>\n",
       "      <td>2.85</td>\n",
       "      <td>4.15</td>\n",
       "      <td>5200</td>\n",
       "      <td>Petrol</td>\n",
       "      <td>Dealer</td>\n",
       "      <td>Manual</td>\n",
       "      <td>0</td>\n",
       "    </tr>\n",
       "    <tr>\n",
       "      <th>4</th>\n",
       "      <td>5</td>\n",
       "      <td>4.60</td>\n",
       "      <td>6.87</td>\n",
       "      <td>42450</td>\n",
       "      <td>Diesel</td>\n",
       "      <td>Dealer</td>\n",
       "      <td>Manual</td>\n",
       "      <td>0</td>\n",
       "    </tr>\n",
       "    <tr>\n",
       "      <th>5</th>\n",
       "      <td>1</td>\n",
       "      <td>9.25</td>\n",
       "      <td>9.83</td>\n",
       "      <td>2071</td>\n",
       "      <td>Diesel</td>\n",
       "      <td>Dealer</td>\n",
       "      <td>Manual</td>\n",
       "      <td>0</td>\n",
       "    </tr>\n",
       "    <tr>\n",
       "      <th>6</th>\n",
       "      <td>4</td>\n",
       "      <td>6.75</td>\n",
       "      <td>8.12</td>\n",
       "      <td>18796</td>\n",
       "      <td>Petrol</td>\n",
       "      <td>Dealer</td>\n",
       "      <td>Manual</td>\n",
       "      <td>0</td>\n",
       "    </tr>\n",
       "    <tr>\n",
       "      <th>7</th>\n",
       "      <td>4</td>\n",
       "      <td>6.50</td>\n",
       "      <td>8.61</td>\n",
       "      <td>33429</td>\n",
       "      <td>Diesel</td>\n",
       "      <td>Dealer</td>\n",
       "      <td>Manual</td>\n",
       "      <td>0</td>\n",
       "    </tr>\n",
       "  </tbody>\n",
       "</table>\n",
       "</div>"
      ],
      "text/plain": [
       "   Age  Selling_Price  Present_Price  Kms_Driven Fuel_Type Seller_Type  \\\n",
       "0    5           3.35           5.59       27000    Petrol      Dealer   \n",
       "1    6           4.75           9.54       43000    Diesel      Dealer   \n",
       "2    2           7.25           9.85        6900    Petrol      Dealer   \n",
       "3    8           2.85           4.15        5200    Petrol      Dealer   \n",
       "4    5           4.60           6.87       42450    Diesel      Dealer   \n",
       "5    1           9.25           9.83        2071    Diesel      Dealer   \n",
       "6    4           6.75           8.12       18796    Petrol      Dealer   \n",
       "7    4           6.50           8.61       33429    Diesel      Dealer   \n",
       "\n",
       "  Transmission  Owner  \n",
       "0       Manual      0  \n",
       "1       Manual      0  \n",
       "2       Manual      0  \n",
       "3       Manual      0  \n",
       "4       Manual      0  \n",
       "5       Manual      0  \n",
       "6       Manual      0  \n",
       "7       Manual      0  "
      ]
     },
     "execution_count": 175,
     "metadata": {},
     "output_type": "execute_result"
    }
   ],
   "source": [
    "Age = 2019 - df['Year']               # determine the age using the year\n",
    "df.insert (0, 'Age', Age)\n",
    "del df['Year']                        # delete columns of year and name of car\n",
    "del df['Car_Name']\n",
    "df.head(8)"
   ]
  },
  {
   "cell_type": "markdown",
   "id": "92493354",
   "metadata": {},
   "source": [
    "#### To check the noise of numerical data, display the lowest and highest values of each column\n",
    "\n",
    "- Note that the difference in the number of kilometers traveled cannot be noise"
   ]
  },
  {
   "cell_type": "code",
   "execution_count": 176,
   "id": "e856ca2f",
   "metadata": {},
   "outputs": [],
   "source": [
    "from pandas.api.types import is_numeric_dtype"
   ]
  },
  {
   "cell_type": "code",
   "execution_count": 177,
   "id": "e9296eb7",
   "metadata": {},
   "outputs": [
    {
     "data": {
      "text/html": [
       "<div>\n",
       "<style scoped>\n",
       "    .dataframe tbody tr th:only-of-type {\n",
       "        vertical-align: middle;\n",
       "    }\n",
       "\n",
       "    .dataframe tbody tr th {\n",
       "        vertical-align: top;\n",
       "    }\n",
       "\n",
       "    .dataframe thead th {\n",
       "        text-align: right;\n",
       "    }\n",
       "</style>\n",
       "<table border=\"1\" class=\"dataframe\">\n",
       "  <thead>\n",
       "    <tr style=\"text-align: right;\">\n",
       "      <th></th>\n",
       "      <th>Age</th>\n",
       "      <th>Selling_Price</th>\n",
       "      <th>Present_Price</th>\n",
       "      <th>Kms_Driven</th>\n",
       "      <th>Owner</th>\n",
       "    </tr>\n",
       "  </thead>\n",
       "  <tbody>\n",
       "    <tr>\n",
       "      <th>0</th>\n",
       "      <td>16</td>\n",
       "      <td>35.0</td>\n",
       "      <td>92.60</td>\n",
       "      <td>500000</td>\n",
       "      <td>3</td>\n",
       "    </tr>\n",
       "    <tr>\n",
       "      <th>1</th>\n",
       "      <td>16</td>\n",
       "      <td>33.0</td>\n",
       "      <td>36.23</td>\n",
       "      <td>213000</td>\n",
       "      <td>1</td>\n",
       "    </tr>\n",
       "    <tr>\n",
       "      <th>2</th>\n",
       "      <td>15</td>\n",
       "      <td>23.5</td>\n",
       "      <td>35.96</td>\n",
       "      <td>197176</td>\n",
       "      <td>1</td>\n",
       "    </tr>\n",
       "    <tr>\n",
       "      <th>3</th>\n",
       "      <td>14</td>\n",
       "      <td>23.0</td>\n",
       "      <td>35.96</td>\n",
       "      <td>142000</td>\n",
       "      <td>1</td>\n",
       "    </tr>\n",
       "    <tr>\n",
       "      <th>4</th>\n",
       "      <td>14</td>\n",
       "      <td>23.0</td>\n",
       "      <td>35.96</td>\n",
       "      <td>135154</td>\n",
       "      <td>1</td>\n",
       "    </tr>\n",
       "  </tbody>\n",
       "</table>\n",
       "</div>"
      ],
      "text/plain": [
       "   Age  Selling_Price  Present_Price  Kms_Driven  Owner\n",
       "0   16           35.0          92.60      500000      3\n",
       "1   16           33.0          36.23      213000      1\n",
       "2   15           23.5          35.96      197176      1\n",
       "3   14           23.0          35.96      142000      1\n",
       "4   14           23.0          35.96      135154      1"
      ]
     },
     "execution_count": 177,
     "metadata": {},
     "output_type": "execute_result"
    }
   ],
   "source": [
    "large = []\n",
    "\n",
    "for col in df.columns:\n",
    "    top_values = []\n",
    "    if is_numeric_dtype(df[col]):\n",
    "        top_values = df[col].nlargest(n=5)\n",
    "        large.append(pd.DataFrame({col: top_values}).reset_index(drop=True))\n",
    "pd.concat(large, axis=1)"
   ]
  },
  {
   "cell_type": "code",
   "execution_count": 178,
   "id": "5120481b",
   "metadata": {},
   "outputs": [
    {
     "data": {
      "text/html": [
       "<div>\n",
       "<style scoped>\n",
       "    .dataframe tbody tr th:only-of-type {\n",
       "        vertical-align: middle;\n",
       "    }\n",
       "\n",
       "    .dataframe tbody tr th {\n",
       "        vertical-align: top;\n",
       "    }\n",
       "\n",
       "    .dataframe thead th {\n",
       "        text-align: right;\n",
       "    }\n",
       "</style>\n",
       "<table border=\"1\" class=\"dataframe\">\n",
       "  <thead>\n",
       "    <tr style=\"text-align: right;\">\n",
       "      <th></th>\n",
       "      <th>Age</th>\n",
       "      <th>Selling_Price</th>\n",
       "      <th>Present_Price</th>\n",
       "      <th>Kms_Driven</th>\n",
       "      <th>Owner</th>\n",
       "    </tr>\n",
       "  </thead>\n",
       "  <tbody>\n",
       "    <tr>\n",
       "      <th>0</th>\n",
       "      <td>1</td>\n",
       "      <td>0.10</td>\n",
       "      <td>0.32</td>\n",
       "      <td>500</td>\n",
       "      <td>0</td>\n",
       "    </tr>\n",
       "    <tr>\n",
       "      <th>1</th>\n",
       "      <td>2</td>\n",
       "      <td>0.12</td>\n",
       "      <td>0.47</td>\n",
       "      <td>500</td>\n",
       "      <td>0</td>\n",
       "    </tr>\n",
       "    <tr>\n",
       "      <th>2</th>\n",
       "      <td>2</td>\n",
       "      <td>0.15</td>\n",
       "      <td>0.48</td>\n",
       "      <td>1000</td>\n",
       "      <td>0</td>\n",
       "    </tr>\n",
       "    <tr>\n",
       "      <th>3</th>\n",
       "      <td>2</td>\n",
       "      <td>0.16</td>\n",
       "      <td>0.51</td>\n",
       "      <td>1200</td>\n",
       "      <td>0</td>\n",
       "    </tr>\n",
       "    <tr>\n",
       "      <th>4</th>\n",
       "      <td>2</td>\n",
       "      <td>0.17</td>\n",
       "      <td>0.51</td>\n",
       "      <td>1300</td>\n",
       "      <td>0</td>\n",
       "    </tr>\n",
       "  </tbody>\n",
       "</table>\n",
       "</div>"
      ],
      "text/plain": [
       "   Age  Selling_Price  Present_Price  Kms_Driven  Owner\n",
       "0    1           0.10           0.32         500      0\n",
       "1    2           0.12           0.47         500      0\n",
       "2    2           0.15           0.48        1000      0\n",
       "3    2           0.16           0.51        1200      0\n",
       "4    2           0.17           0.51        1300      0"
      ]
     },
     "execution_count": 178,
     "metadata": {},
     "output_type": "execute_result"
    }
   ],
   "source": [
    "small = []\n",
    "\n",
    "for col in df.columns:\n",
    "    top_values = []\n",
    "    if is_numeric_dtype(df[col]):\n",
    "        top_values = df[col].nsmallest(n=5)\n",
    "        small.append(pd.DataFrame({col: top_values}).reset_index(drop=True))\n",
    "pd.concat(small, axis=1)"
   ]
  },
  {
   "cell_type": "markdown",
   "id": "475b76ad",
   "metadata": {},
   "source": [
    "# Type of Columns \n",
    "\n",
    "\n",
    "- categorical\n",
    "- Continuous\n",
    "\n",
    "\n",
    "## >>> categorical :"
   ]
  },
  {
   "cell_type": "code",
   "execution_count": 179,
   "id": "f1f5bb02",
   "metadata": {},
   "outputs": [
    {
     "data": {
      "image/png": "[encoded data removed]",
      "text/plain": [
       "<Figure size 1008x576 with 1 Axes>"
      ]
     },
     "metadata": {
      "needs_background": "light"
     },
     "output_type": "display_data"
    },
    {
     "data": {
      "image/png": "[encoded data removed]",
      "text/plain": [
       "<Figure size 1008x576 with 1 Axes>"
      ]
     },
     "metadata": {
      "needs_background": "light"
     },
     "output_type": "display_data"
    },
    {
     "data": {
      "image/png": "[encoded data removed]",
      "text/plain": [
       "<Figure size 1008x576 with 1 Axes>"
      ]
     },
     "metadata": {
      "needs_background": "light"
     },
     "output_type": "display_data"
    }
   ],
   "source": [
    "for a in df.columns :\n",
    "    if is_numeric_dtype(df[a]) == False:\n",
    "        fig = plt.figure(figsize=(14,8))\n",
    "        plt.subplot(1,1,1)\n",
    "        sns.countplot(x=a ,data=df)"
   ]
  },
  {
   "cell_type": "code",
   "execution_count": 180,
   "id": "136d0ab3",
   "metadata": {},
   "outputs": [
    {
     "data": {
      "image/png": "[encoded data removed]",
      "text/plain": [
       "<Figure size 1080x360 with 2 Axes>"
      ]
     },
     "metadata": {
      "needs_background": "light"
     },
     "output_type": "display_data"
    },
    {
     "data": {
      "image/png": "[encoded data removed]",
      "text/plain": [
       "<Figure size 1080x360 with 2 Axes>"
      ]
     },
     "metadata": {
      "needs_background": "light"
     },
     "output_type": "display_data"
    }
   ],
   "source": [
    "Continuous = ['Age','Selling_Price','Present_Price','Kms_Driven']\n",
    "i = 0\n",
    "while i < 4 :\n",
    "    fig = plt.figure(figsize=(15,5))\n",
    "    plt.subplot(1,2,1)\n",
    "    sns.boxplot(x=Continuous[i] ,data=df)\n",
    "    i +=1\n",
    "    plt.subplot(1,2,2)\n",
    "    sns.boxplot(x=Continuous[i] ,data=df)\n",
    "    i +=1\n",
    "    plt.show()"
   ]
  },
  {
   "cell_type": "code",
   "execution_count": 181,
   "id": "0f24593f",
   "metadata": {},
   "outputs": [
    {
     "data": {
      "image/png": "[encoded data removed]",
      "text/plain": [
       "<Figure size 1296x864 with 2 Axes>"
      ]
     },
     "metadata": {
      "needs_background": "light"
     },
     "output_type": "display_data"
    }
   ],
   "source": [
    "fig , ax = plt.subplots (figsize = (18,12))\n",
    "sns.heatmap (df.corr(), cmap='Blues', cbar=True, annot=True, linewidths=0.5, ax=ax)\n",
    "plt.show()"
   ]
  },
  {
   "cell_type": "markdown",
   "id": "5cf6d8df",
   "metadata": {},
   "source": [
    "- highest correlation in data is between Selling_Price and Present_Price"
   ]
  },
  {
   "cell_type": "markdown",
   "id": "a179aec8",
   "metadata": {},
   "source": [
    "### As can be seen, there is a linear relationship between continuous parameters :"
   ]
  },
  {
   "cell_type": "code",
   "execution_count": 182,
   "id": "41c1cdf5",
   "metadata": {},
   "outputs": [
    {
     "data": {
      "image/png": "[encoded data removed]",
      "text/plain": [
       "<Figure size 1080x864 with 2 Axes>"
      ]
     },
     "metadata": {
      "needs_background": "light"
     },
     "output_type": "display_data"
    }
   ],
   "source": [
    "fig ,ax = plt.subplots(2, figsize=(15,12))\n",
    "plt.rcParams['axes.grid'] = True\n",
    "\n",
    "ax[0].scatter (df['Selling_Price'],df['Kms_Driven'])\n",
    "ax[0].set_title ('Selling_Price Vs Kms_Driven')\n",
    "ax[0].set_xlabel ('Selling_Price')\n",
    "ax[0].set_ylabel ('Kms_Driven')\n",
    "\n",
    "ax[1].scatter (df['Selling_Price'],df['Present_Price'])\n",
    "ax[1].set_title('Selling_Price Vs Present_Price')\n",
    "ax[1].set_xlabel ('Selling_Price')\n",
    "ax[1].set_ylabel ('Present_Price')\n",
    "\n",
    "plt.show()"
   ]
  },
  {
   "cell_type": "markdown",
   "id": "977fc4d6",
   "metadata": {},
   "source": [
    "### Although it was observed in only one example that the car had more than one owner, this sample should be used in the modeling :"
   ]
  },
  {
   "cell_type": "code",
   "execution_count": 183,
   "id": "118339fe",
   "metadata": {},
   "outputs": [
    {
     "data": {
      "text/plain": [
       "<AxesSubplot:xlabel='Owner', ylabel='Present_Price'>"
      ]
     },
     "execution_count": 183,
     "metadata": {},
     "output_type": "execute_result"
    },
    {
     "data": {
      "image/png": "[encoded data removed]",
      "text/plain": [
       "<Figure size 1152x576 with 1 Axes>"
      ]
     },
     "metadata": {
      "needs_background": "light"
     },
     "output_type": "display_data"
    }
   ],
   "source": [
    "plt.figure(figsize=(16,8))\n",
    "sns.stripplot(x=\"Owner\",y=\"Present_Price\",data=df[df['Present_Price']<40],jitter=True,hue='Fuel_Type',palette='Set1')"
   ]
  },
  {
   "cell_type": "markdown",
   "id": "8e7c7254",
   "metadata": {},
   "source": [
    "### Because cannot enter text values into the linear equation, we must first convert them into numbers :"
   ]
  },
  {
   "cell_type": "code",
   "execution_count": 184,
   "id": "c671dd64",
   "metadata": {
    "scrolled": true
   },
   "outputs": [
    {
     "data": {
      "text/html": [
       "<div>\n",
       "<style scoped>\n",
       "    .dataframe tbody tr th:only-of-type {\n",
       "        vertical-align: middle;\n",
       "    }\n",
       "\n",
       "    .dataframe tbody tr th {\n",
       "        vertical-align: top;\n",
       "    }\n",
       "\n",
       "    .dataframe thead th {\n",
       "        text-align: right;\n",
       "    }\n",
       "</style>\n",
       "<table border=\"1\" class=\"dataframe\">\n",
       "  <thead>\n",
       "    <tr style=\"text-align: right;\">\n",
       "      <th></th>\n",
       "      <th>Age</th>\n",
       "      <th>Selling_Price</th>\n",
       "      <th>Present_Price</th>\n",
       "      <th>Kms_Driven</th>\n",
       "      <th>Fuel_Type</th>\n",
       "      <th>Seller_Type</th>\n",
       "      <th>Transmission</th>\n",
       "      <th>Owner</th>\n",
       "      <th>Fuel_Type1</th>\n",
       "      <th>Seller_Type1</th>\n",
       "      <th>Transmission1</th>\n",
       "    </tr>\n",
       "  </thead>\n",
       "  <tbody>\n",
       "    <tr>\n",
       "      <th>0</th>\n",
       "      <td>5</td>\n",
       "      <td>3.35</td>\n",
       "      <td>5.59</td>\n",
       "      <td>27000</td>\n",
       "      <td>Petrol</td>\n",
       "      <td>Dealer</td>\n",
       "      <td>Manual</td>\n",
       "      <td>0</td>\n",
       "      <td>4</td>\n",
       "      <td>4</td>\n",
       "      <td>4</td>\n",
       "    </tr>\n",
       "    <tr>\n",
       "      <th>1</th>\n",
       "      <td>6</td>\n",
       "      <td>4.75</td>\n",
       "      <td>9.54</td>\n",
       "      <td>43000</td>\n",
       "      <td>Diesel</td>\n",
       "      <td>Dealer</td>\n",
       "      <td>Manual</td>\n",
       "      <td>0</td>\n",
       "      <td>3</td>\n",
       "      <td>4</td>\n",
       "      <td>4</td>\n",
       "    </tr>\n",
       "    <tr>\n",
       "      <th>2</th>\n",
       "      <td>2</td>\n",
       "      <td>7.25</td>\n",
       "      <td>9.85</td>\n",
       "      <td>6900</td>\n",
       "      <td>Petrol</td>\n",
       "      <td>Dealer</td>\n",
       "      <td>Manual</td>\n",
       "      <td>0</td>\n",
       "      <td>4</td>\n",
       "      <td>4</td>\n",
       "      <td>4</td>\n",
       "    </tr>\n",
       "    <tr>\n",
       "      <th>3</th>\n",
       "      <td>8</td>\n",
       "      <td>2.85</td>\n",
       "      <td>4.15</td>\n",
       "      <td>5200</td>\n",
       "      <td>Petrol</td>\n",
       "      <td>Dealer</td>\n",
       "      <td>Manual</td>\n",
       "      <td>0</td>\n",
       "      <td>4</td>\n",
       "      <td>4</td>\n",
       "      <td>4</td>\n",
       "    </tr>\n",
       "    <tr>\n",
       "      <th>4</th>\n",
       "      <td>5</td>\n",
       "      <td>4.60</td>\n",
       "      <td>6.87</td>\n",
       "      <td>42450</td>\n",
       "      <td>Diesel</td>\n",
       "      <td>Dealer</td>\n",
       "      <td>Manual</td>\n",
       "      <td>0</td>\n",
       "      <td>3</td>\n",
       "      <td>4</td>\n",
       "      <td>4</td>\n",
       "    </tr>\n",
       "    <tr>\n",
       "      <th>5</th>\n",
       "      <td>1</td>\n",
       "      <td>9.25</td>\n",
       "      <td>9.83</td>\n",
       "      <td>2071</td>\n",
       "      <td>Diesel</td>\n",
       "      <td>Dealer</td>\n",
       "      <td>Manual</td>\n",
       "      <td>0</td>\n",
       "      <td>3</td>\n",
       "      <td>4</td>\n",
       "      <td>4</td>\n",
       "    </tr>\n",
       "    <tr>\n",
       "      <th>6</th>\n",
       "      <td>4</td>\n",
       "      <td>6.75</td>\n",
       "      <td>8.12</td>\n",
       "      <td>18796</td>\n",
       "      <td>Petrol</td>\n",
       "      <td>Dealer</td>\n",
       "      <td>Manual</td>\n",
       "      <td>0</td>\n",
       "      <td>4</td>\n",
       "      <td>4</td>\n",
       "      <td>4</td>\n",
       "    </tr>\n",
       "    <tr>\n",
       "      <th>7</th>\n",
       "      <td>4</td>\n",
       "      <td>6.50</td>\n",
       "      <td>8.61</td>\n",
       "      <td>33429</td>\n",
       "      <td>Diesel</td>\n",
       "      <td>Dealer</td>\n",
       "      <td>Manual</td>\n",
       "      <td>0</td>\n",
       "      <td>3</td>\n",
       "      <td>4</td>\n",
       "      <td>4</td>\n",
       "    </tr>\n",
       "  </tbody>\n",
       "</table>\n",
       "</div>"
      ],
      "text/plain": [
       "   Age  Selling_Price  Present_Price  Kms_Driven Fuel_Type Seller_Type  \\\n",
       "0    5           3.35           5.59       27000    Petrol      Dealer   \n",
       "1    6           4.75           9.54       43000    Diesel      Dealer   \n",
       "2    2           7.25           9.85        6900    Petrol      Dealer   \n",
       "3    8           2.85           4.15        5200    Petrol      Dealer   \n",
       "4    5           4.60           6.87       42450    Diesel      Dealer   \n",
       "5    1           9.25           9.83        2071    Diesel      Dealer   \n",
       "6    4           6.75           8.12       18796    Petrol      Dealer   \n",
       "7    4           6.50           8.61       33429    Diesel      Dealer   \n",
       "\n",
       "  Transmission  Owner  Fuel_Type1  Seller_Type1  Transmission1  \n",
       "0       Manual      0           4             4              4  \n",
       "1       Manual      0           3             4              4  \n",
       "2       Manual      0           4             4              4  \n",
       "3       Manual      0           4             4              4  \n",
       "4       Manual      0           3             4              4  \n",
       "5       Manual      0           3             4              4  \n",
       "6       Manual      0           4             4              4  \n",
       "7       Manual      0           3             4              4  "
      ]
     },
     "execution_count": 184,
     "metadata": {},
     "output_type": "execute_result"
    }
   ],
   "source": [
    "def gender_to_numeric(x):               # We write a function that convert str to int\n",
    "        if x=='Petrol': return 4\n",
    "        if x=='Diesel':   return 3\n",
    "        if x=='CNG': return 2\n",
    "        if x=='Dealer': return 4\n",
    "        if x=='Individual': return 3\n",
    "        if x=='Manual': return 4\n",
    "        if x=='Automatic': return 2\n",
    "\n",
    "df['Fuel_Type1'] = df['Fuel_Type'].apply(gender_to_numeric)\n",
    "df['Seller_Type1'] = df['Seller_Type'].apply(gender_to_numeric)\n",
    "df['Transmission1'] = df['Transmission'].apply(gender_to_numeric)\n",
    "df.head(8)"
   ]
  },
  {
   "cell_type": "code",
   "execution_count": 185,
   "id": "8c3a7d97",
   "metadata": {},
   "outputs": [
    {
     "data": {
      "text/html": [
       "<div>\n",
       "<style scoped>\n",
       "    .dataframe tbody tr th:only-of-type {\n",
       "        vertical-align: middle;\n",
       "    }\n",
       "\n",
       "    .dataframe tbody tr th {\n",
       "        vertical-align: top;\n",
       "    }\n",
       "\n",
       "    .dataframe thead th {\n",
       "        text-align: right;\n",
       "    }\n",
       "</style>\n",
       "<table border=\"1\" class=\"dataframe\">\n",
       "  <thead>\n",
       "    <tr style=\"text-align: right;\">\n",
       "      <th></th>\n",
       "      <th>Age</th>\n",
       "      <th>Selling_Price</th>\n",
       "      <th>Present_Price</th>\n",
       "      <th>Kms_Driven</th>\n",
       "      <th>Fuel_Type</th>\n",
       "      <th>Seller_Type</th>\n",
       "      <th>Transmission</th>\n",
       "      <th>Owner</th>\n",
       "    </tr>\n",
       "  </thead>\n",
       "  <tbody>\n",
       "    <tr>\n",
       "      <th>0</th>\n",
       "      <td>5</td>\n",
       "      <td>3.35</td>\n",
       "      <td>5.59</td>\n",
       "      <td>27000</td>\n",
       "      <td>4</td>\n",
       "      <td>4</td>\n",
       "      <td>4</td>\n",
       "      <td>0</td>\n",
       "    </tr>\n",
       "    <tr>\n",
       "      <th>1</th>\n",
       "      <td>6</td>\n",
       "      <td>4.75</td>\n",
       "      <td>9.54</td>\n",
       "      <td>43000</td>\n",
       "      <td>3</td>\n",
       "      <td>4</td>\n",
       "      <td>4</td>\n",
       "      <td>0</td>\n",
       "    </tr>\n",
       "    <tr>\n",
       "      <th>2</th>\n",
       "      <td>2</td>\n",
       "      <td>7.25</td>\n",
       "      <td>9.85</td>\n",
       "      <td>6900</td>\n",
       "      <td>4</td>\n",
       "      <td>4</td>\n",
       "      <td>4</td>\n",
       "      <td>0</td>\n",
       "    </tr>\n",
       "    <tr>\n",
       "      <th>3</th>\n",
       "      <td>8</td>\n",
       "      <td>2.85</td>\n",
       "      <td>4.15</td>\n",
       "      <td>5200</td>\n",
       "      <td>4</td>\n",
       "      <td>4</td>\n",
       "      <td>4</td>\n",
       "      <td>0</td>\n",
       "    </tr>\n",
       "    <tr>\n",
       "      <th>4</th>\n",
       "      <td>5</td>\n",
       "      <td>4.60</td>\n",
       "      <td>6.87</td>\n",
       "      <td>42450</td>\n",
       "      <td>3</td>\n",
       "      <td>4</td>\n",
       "      <td>4</td>\n",
       "      <td>0</td>\n",
       "    </tr>\n",
       "    <tr>\n",
       "      <th>5</th>\n",
       "      <td>1</td>\n",
       "      <td>9.25</td>\n",
       "      <td>9.83</td>\n",
       "      <td>2071</td>\n",
       "      <td>3</td>\n",
       "      <td>4</td>\n",
       "      <td>4</td>\n",
       "      <td>0</td>\n",
       "    </tr>\n",
       "    <tr>\n",
       "      <th>6</th>\n",
       "      <td>4</td>\n",
       "      <td>6.75</td>\n",
       "      <td>8.12</td>\n",
       "      <td>18796</td>\n",
       "      <td>4</td>\n",
       "      <td>4</td>\n",
       "      <td>4</td>\n",
       "      <td>0</td>\n",
       "    </tr>\n",
       "    <tr>\n",
       "      <th>7</th>\n",
       "      <td>4</td>\n",
       "      <td>6.50</td>\n",
       "      <td>8.61</td>\n",
       "      <td>33429</td>\n",
       "      <td>3</td>\n",
       "      <td>4</td>\n",
       "      <td>4</td>\n",
       "      <td>0</td>\n",
       "    </tr>\n",
       "  </tbody>\n",
       "</table>\n",
       "</div>"
      ],
      "text/plain": [
       "   Age  Selling_Price  Present_Price  Kms_Driven  Fuel_Type  Seller_Type  \\\n",
       "0    5           3.35           5.59       27000          4            4   \n",
       "1    6           4.75           9.54       43000          3            4   \n",
       "2    2           7.25           9.85        6900          4            4   \n",
       "3    8           2.85           4.15        5200          4            4   \n",
       "4    5           4.60           6.87       42450          3            4   \n",
       "5    1           9.25           9.83        2071          3            4   \n",
       "6    4           6.75           8.12       18796          4            4   \n",
       "7    4           6.50           8.61       33429          3            4   \n",
       "\n",
       "   Transmission  Owner  \n",
       "0             4      0  \n",
       "1             4      0  \n",
       "2             4      0  \n",
       "3             4      0  \n",
       "4             4      0  \n",
       "5             4      0  \n",
       "6             4      0  \n",
       "7             4      0  "
      ]
     },
     "execution_count": 185,
     "metadata": {},
     "output_type": "execute_result"
    }
   ],
   "source": [
    "del df['Fuel_Type']                  # Clear extra columns\n",
    "del df['Seller_Type']\n",
    "del df['Transmission']\n",
    "df = df[['Age','Selling_Price','Present_Price','Kms_Driven','Fuel_Type1','Seller_Type1','Transmission1','Owner']]\n",
    "df = df.rename ({'Fuel_Type1':'Fuel_Type', 'Seller_Type1':'Seller_Type', 'Transmission1':'Transmission'}, axis=1)\n",
    "df.head(8)"
   ]
  },
  {
   "cell_type": "markdown",
   "id": "d46c09fc",
   "metadata": {},
   "source": [
    "# StandardsScaler"
   ]
  },
  {
   "cell_type": "code",
   "execution_count": 186,
   "id": "d139c6ed",
   "metadata": {},
   "outputs": [],
   "source": [
    "from sklearn.preprocessing import StandardScaler"
   ]
  },
  {
   "cell_type": "code",
   "execution_count": 187,
   "id": "01b5d1a4",
   "metadata": {},
   "outputs": [
    {
     "data": {
      "text/html": [
       "<div>\n",
       "<style scoped>\n",
       "    .dataframe tbody tr th:only-of-type {\n",
       "        vertical-align: middle;\n",
       "    }\n",
       "\n",
       "    .dataframe tbody tr th {\n",
       "        vertical-align: top;\n",
       "    }\n",
       "\n",
       "    .dataframe thead th {\n",
       "        text-align: right;\n",
       "    }\n",
       "</style>\n",
       "<table border=\"1\" class=\"dataframe\">\n",
       "  <thead>\n",
       "    <tr style=\"text-align: right;\">\n",
       "      <th></th>\n",
       "      <th>Age</th>\n",
       "      <th>Selling_Price</th>\n",
       "      <th>Present_Price</th>\n",
       "      <th>Kms_Driven</th>\n",
       "      <th>Fuel_Type</th>\n",
       "      <th>Seller_Type</th>\n",
       "      <th>Transmission</th>\n",
       "      <th>Owner</th>\n",
       "    </tr>\n",
       "  </thead>\n",
       "  <tbody>\n",
       "    <tr>\n",
       "      <th>0</th>\n",
       "      <td>-0.128897</td>\n",
       "      <td>-0.258416</td>\n",
       "      <td>-0.236215</td>\n",
       "      <td>-0.256224</td>\n",
       "      <td>0.500183</td>\n",
       "      <td>0.737285</td>\n",
       "      <td>0.39148</td>\n",
       "      <td>-0.174501</td>\n",
       "    </tr>\n",
       "    <tr>\n",
       "      <th>1</th>\n",
       "      <td>0.217514</td>\n",
       "      <td>0.017481</td>\n",
       "      <td>0.221505</td>\n",
       "      <td>0.155911</td>\n",
       "      <td>-1.852241</td>\n",
       "      <td>0.737285</td>\n",
       "      <td>0.39148</td>\n",
       "      <td>-0.174501</td>\n",
       "    </tr>\n",
       "    <tr>\n",
       "      <th>2</th>\n",
       "      <td>-1.168129</td>\n",
       "      <td>0.510154</td>\n",
       "      <td>0.257427</td>\n",
       "      <td>-0.773969</td>\n",
       "      <td>0.500183</td>\n",
       "      <td>0.737285</td>\n",
       "      <td>0.39148</td>\n",
       "      <td>-0.174501</td>\n",
       "    </tr>\n",
       "    <tr>\n",
       "      <th>3</th>\n",
       "      <td>0.910335</td>\n",
       "      <td>-0.356950</td>\n",
       "      <td>-0.403079</td>\n",
       "      <td>-0.817758</td>\n",
       "      <td>0.500183</td>\n",
       "      <td>0.737285</td>\n",
       "      <td>0.39148</td>\n",
       "      <td>-0.174501</td>\n",
       "    </tr>\n",
       "    <tr>\n",
       "      <th>4</th>\n",
       "      <td>-0.128897</td>\n",
       "      <td>-0.012079</td>\n",
       "      <td>-0.087890</td>\n",
       "      <td>0.141743</td>\n",
       "      <td>-1.852241</td>\n",
       "      <td>0.737285</td>\n",
       "      <td>0.39148</td>\n",
       "      <td>-0.174501</td>\n",
       "    </tr>\n",
       "  </tbody>\n",
       "</table>\n",
       "</div>"
      ],
      "text/plain": [
       "        Age  Selling_Price  Present_Price  Kms_Driven  Fuel_Type  Seller_Type  \\\n",
       "0 -0.128897      -0.258416      -0.236215   -0.256224   0.500183     0.737285   \n",
       "1  0.217514       0.017481       0.221505    0.155911  -1.852241     0.737285   \n",
       "2 -1.168129       0.510154       0.257427   -0.773969   0.500183     0.737285   \n",
       "3  0.910335      -0.356950      -0.403079   -0.817758   0.500183     0.737285   \n",
       "4 -0.128897      -0.012079      -0.087890    0.141743  -1.852241     0.737285   \n",
       "\n",
       "   Transmission     Owner  \n",
       "0       0.39148 -0.174501  \n",
       "1       0.39148 -0.174501  \n",
       "2       0.39148 -0.174501  \n",
       "3       0.39148 -0.174501  \n",
       "4       0.39148 -0.174501  "
      ]
     },
     "execution_count": 187,
     "metadata": {},
     "output_type": "execute_result"
    }
   ],
   "source": [
    "stdandard_ = StandardScaler ()\n",
    "df_std = pd.DataFrame (stdandard_.fit_transform (df.values), columns=df.columns)\n",
    "df_std.head()"
   ]
  },
  {
   "cell_type": "markdown",
   "id": "90dd9dbe",
   "metadata": {},
   "source": [
    "# Creating Model"
   ]
  },
  {
   "cell_type": "code",
   "execution_count": 188,
   "id": "d05c79a4",
   "metadata": {},
   "outputs": [],
   "source": [
    "x = df_std.drop (labels='Selling_Price',axis=1)\n",
    "y = df_std['Selling_Price'].values.reshape(-1,1)      # choose the data we want to process"
   ]
  },
  {
   "cell_type": "code",
   "execution_count": 189,
   "id": "87c6b0fe",
   "metadata": {},
   "outputs": [],
   "source": [
    "x_train , x_test , y_train , y_test = train_test_split (x,y, test_size=0.19, random_state=0) # split With using the library"
   ]
  },
  {
   "cell_type": "code",
   "execution_count": 190,
   "id": "5cdf2dde",
   "metadata": {},
   "outputs": [],
   "source": [
    "regressor = LinearRegression ()     # define the model"
   ]
  },
  {
   "cell_type": "code",
   "execution_count": 191,
   "id": "04ac8a81",
   "metadata": {},
   "outputs": [
    {
     "data": {
      "text/plain": [
       "LinearRegression()"
      ]
     },
     "execution_count": 191,
     "metadata": {},
     "output_type": "execute_result"
    }
   ],
   "source": [
    "regressor.fit (x_train,y_train)           # fit the train and test data"
   ]
  },
  {
   "cell_type": "code",
   "execution_count": 192,
   "id": "a0062baa",
   "metadata": {},
   "outputs": [],
   "source": [
    "y_pred = regressor.predict (x_test)          # We implement the model"
   ]
  },
  {
   "cell_type": "code",
   "execution_count": 193,
   "id": "d7143712",
   "metadata": {},
   "outputs": [
    {
     "name": "stdout",
     "output_type": "stream",
     "text": [
      "MAE :  0.20227983247272524\n",
      "MSE :  0.0885803704351873\n",
      "RMAE :  0.44975530288449656\n",
      "score :  0.913090402904947\n"
     ]
    }
   ],
   "source": [
    "print('MAE : ', metrics.mean_absolute_error(y_test,y_pred))     # mean absolute error\n",
    "print('MSE : ', metrics.mean_squared_error(y_test,y_pred))        # mean squared error\n",
    "print('RMAE : ', np.sqrt(metrics.mean_absolute_error(y_test,y_pred)))    # root mean squared error\n",
    "print('score : ', metrics.r2_score(y_test,y_pred))"
   ]
  },
  {
   "cell_type": "markdown",
   "id": "2cdc63b7",
   "metadata": {},
   "source": [
    "### 91% is good but let to improve model"
   ]
  },
  {
   "cell_type": "markdown",
   "id": "d16247ea",
   "metadata": {},
   "source": [
    "# Improve Model\n",
    "\n"
   ]
  },
  {
   "cell_type": "code",
   "execution_count": 194,
   "id": "91379348",
   "metadata": {},
   "outputs": [
    {
     "name": "stdout",
     "output_type": "stream",
     "text": [
      "Score :  0.9283922153460124\n"
     ]
    }
   ],
   "source": [
    "def Power (Dimention,Testsize) :\n",
    "    r2 = 0.9130904029049598\n",
    "    for column in x :\n",
    "        new_col_name = column + str(Dimention)\n",
    "        new_col_val = x[column]**Dimention\n",
    "        x.insert (0, new_col_name, new_col_val)\n",
    "        x_train , x_test , y_train , y_test = train_test_split (x,y, test_size=Testsize, random_state=0)\n",
    "        model = LinearRegression ()\n",
    "        model.fit (x_train,y_train)\n",
    "        y_pred = model.predict (x_test)\n",
    "        score = metrics.r2_score (y_test,y_pred)\n",
    "        if score < r2 :\n",
    "            x.drop ([new_col_name], axis=1, inplace=True)\n",
    "        else :\n",
    "            r2 = score\n",
    "    print ('Score : ', r2)\n",
    "Power (2,0.2)"
   ]
  },
  {
   "cell_type": "markdown",
   "id": "1dcf0910",
   "metadata": {},
   "source": [
    "### 92% its better"
   ]
  },
  {
   "cell_type": "code",
   "execution_count": 195,
   "id": "cdf8bb62",
   "metadata": {},
   "outputs": [
    {
     "data": {
      "text/html": [
       "<div>\n",
       "<style scoped>\n",
       "    .dataframe tbody tr th:only-of-type {\n",
       "        vertical-align: middle;\n",
       "    }\n",
       "\n",
       "    .dataframe tbody tr th {\n",
       "        vertical-align: top;\n",
       "    }\n",
       "\n",
       "    .dataframe thead th {\n",
       "        text-align: right;\n",
       "    }\n",
       "</style>\n",
       "<table border=\"1\" class=\"dataframe\">\n",
       "  <thead>\n",
       "    <tr style=\"text-align: right;\">\n",
       "      <th></th>\n",
       "      <th>Owner2</th>\n",
       "      <th>Transmission2</th>\n",
       "      <th>Seller_Type2</th>\n",
       "      <th>Kms_Driven2</th>\n",
       "      <th>Present_Price2</th>\n",
       "      <th>Age2</th>\n",
       "      <th>Age</th>\n",
       "      <th>Present_Price</th>\n",
       "      <th>Kms_Driven</th>\n",
       "      <th>Fuel_Type</th>\n",
       "      <th>Seller_Type</th>\n",
       "      <th>Transmission</th>\n",
       "      <th>Owner</th>\n",
       "    </tr>\n",
       "  </thead>\n",
       "  <tbody>\n",
       "    <tr>\n",
       "      <th>0</th>\n",
       "      <td>0.03045</td>\n",
       "      <td>0.153257</td>\n",
       "      <td>0.54359</td>\n",
       "      <td>0.065651</td>\n",
       "      <td>0.055797</td>\n",
       "      <td>0.016614</td>\n",
       "      <td>-0.128897</td>\n",
       "      <td>-0.236215</td>\n",
       "      <td>-0.256224</td>\n",
       "      <td>0.500183</td>\n",
       "      <td>0.737285</td>\n",
       "      <td>0.39148</td>\n",
       "      <td>-0.174501</td>\n",
       "    </tr>\n",
       "    <tr>\n",
       "      <th>1</th>\n",
       "      <td>0.03045</td>\n",
       "      <td>0.153257</td>\n",
       "      <td>0.54359</td>\n",
       "      <td>0.024308</td>\n",
       "      <td>0.049064</td>\n",
       "      <td>0.047312</td>\n",
       "      <td>0.217514</td>\n",
       "      <td>0.221505</td>\n",
       "      <td>0.155911</td>\n",
       "      <td>-1.852241</td>\n",
       "      <td>0.737285</td>\n",
       "      <td>0.39148</td>\n",
       "      <td>-0.174501</td>\n",
       "    </tr>\n",
       "    <tr>\n",
       "      <th>2</th>\n",
       "      <td>0.03045</td>\n",
       "      <td>0.153257</td>\n",
       "      <td>0.54359</td>\n",
       "      <td>0.599028</td>\n",
       "      <td>0.066269</td>\n",
       "      <td>1.364526</td>\n",
       "      <td>-1.168129</td>\n",
       "      <td>0.257427</td>\n",
       "      <td>-0.773969</td>\n",
       "      <td>0.500183</td>\n",
       "      <td>0.737285</td>\n",
       "      <td>0.39148</td>\n",
       "      <td>-0.174501</td>\n",
       "    </tr>\n",
       "    <tr>\n",
       "      <th>3</th>\n",
       "      <td>0.03045</td>\n",
       "      <td>0.153257</td>\n",
       "      <td>0.54359</td>\n",
       "      <td>0.668729</td>\n",
       "      <td>0.162473</td>\n",
       "      <td>0.828710</td>\n",
       "      <td>0.910335</td>\n",
       "      <td>-0.403079</td>\n",
       "      <td>-0.817758</td>\n",
       "      <td>0.500183</td>\n",
       "      <td>0.737285</td>\n",
       "      <td>0.39148</td>\n",
       "      <td>-0.174501</td>\n",
       "    </tr>\n",
       "    <tr>\n",
       "      <th>4</th>\n",
       "      <td>0.03045</td>\n",
       "      <td>0.153257</td>\n",
       "      <td>0.54359</td>\n",
       "      <td>0.020091</td>\n",
       "      <td>0.007725</td>\n",
       "      <td>0.016614</td>\n",
       "      <td>-0.128897</td>\n",
       "      <td>-0.087890</td>\n",
       "      <td>0.141743</td>\n",
       "      <td>-1.852241</td>\n",
       "      <td>0.737285</td>\n",
       "      <td>0.39148</td>\n",
       "      <td>-0.174501</td>\n",
       "    </tr>\n",
       "    <tr>\n",
       "      <th>5</th>\n",
       "      <td>0.03045</td>\n",
       "      <td>0.153257</td>\n",
       "      <td>0.54359</td>\n",
       "      <td>0.807044</td>\n",
       "      <td>0.065081</td>\n",
       "      <td>2.293831</td>\n",
       "      <td>-1.514540</td>\n",
       "      <td>0.255109</td>\n",
       "      <td>-0.898356</td>\n",
       "      <td>-1.852241</td>\n",
       "      <td>0.737285</td>\n",
       "      <td>0.39148</td>\n",
       "      <td>-0.174501</td>\n",
       "    </tr>\n",
       "    <tr>\n",
       "      <th>6</th>\n",
       "      <td>0.03045</td>\n",
       "      <td>0.153257</td>\n",
       "      <td>0.54359</td>\n",
       "      <td>0.218600</td>\n",
       "      <td>0.003244</td>\n",
       "      <td>0.225917</td>\n",
       "      <td>-0.475308</td>\n",
       "      <td>0.056957</td>\n",
       "      <td>-0.467547</td>\n",
       "      <td>0.500183</td>\n",
       "      <td>0.737285</td>\n",
       "      <td>0.39148</td>\n",
       "      <td>-0.174501</td>\n",
       "    </tr>\n",
       "    <tr>\n",
       "      <th>7</th>\n",
       "      <td>0.03045</td>\n",
       "      <td>0.153257</td>\n",
       "      <td>0.54359</td>\n",
       "      <td>0.008213</td>\n",
       "      <td>0.012936</td>\n",
       "      <td>0.225917</td>\n",
       "      <td>-0.475308</td>\n",
       "      <td>0.113738</td>\n",
       "      <td>-0.090623</td>\n",
       "      <td>-1.852241</td>\n",
       "      <td>0.737285</td>\n",
       "      <td>0.39148</td>\n",
       "      <td>-0.174501</td>\n",
       "    </tr>\n",
       "  </tbody>\n",
       "</table>\n",
       "</div>"
      ],
      "text/plain": [
       "    Owner2  Transmission2  Seller_Type2  Kms_Driven2  Present_Price2  \\\n",
       "0  0.03045       0.153257       0.54359     0.065651        0.055797   \n",
       "1  0.03045       0.153257       0.54359     0.024308        0.049064   \n",
       "2  0.03045       0.153257       0.54359     0.599028        0.066269   \n",
       "3  0.03045       0.153257       0.54359     0.668729        0.162473   \n",
       "4  0.03045       0.153257       0.54359     0.020091        0.007725   \n",
       "5  0.03045       0.153257       0.54359     0.807044        0.065081   \n",
       "6  0.03045       0.153257       0.54359     0.218600        0.003244   \n",
       "7  0.03045       0.153257       0.54359     0.008213        0.012936   \n",
       "\n",
       "       Age2       Age  Present_Price  Kms_Driven  Fuel_Type  Seller_Type  \\\n",
       "0  0.016614 -0.128897      -0.236215   -0.256224   0.500183     0.737285   \n",
       "1  0.047312  0.217514       0.221505    0.155911  -1.852241     0.737285   \n",
       "2  1.364526 -1.168129       0.257427   -0.773969   0.500183     0.737285   \n",
       "3  0.828710  0.910335      -0.403079   -0.817758   0.500183     0.737285   \n",
       "4  0.016614 -0.128897      -0.087890    0.141743  -1.852241     0.737285   \n",
       "5  2.293831 -1.514540       0.255109   -0.898356  -1.852241     0.737285   \n",
       "6  0.225917 -0.475308       0.056957   -0.467547   0.500183     0.737285   \n",
       "7  0.225917 -0.475308       0.113738   -0.090623  -1.852241     0.737285   \n",
       "\n",
       "   Transmission     Owner  \n",
       "0       0.39148 -0.174501  \n",
       "1       0.39148 -0.174501  \n",
       "2       0.39148 -0.174501  \n",
       "3       0.39148 -0.174501  \n",
       "4       0.39148 -0.174501  \n",
       "5       0.39148 -0.174501  \n",
       "6       0.39148 -0.174501  \n",
       "7       0.39148 -0.174501  "
      ]
     },
     "execution_count": 195,
     "metadata": {},
     "output_type": "execute_result"
    }
   ],
   "source": [
    "x.head(8)"
   ]
  },
  {
   "cell_type": "markdown",
   "id": "00f35941",
   "metadata": {},
   "source": [
    "# Dot Fitures"
   ]
  },
  {
   "cell_type": "code",
   "execution_count": 196,
   "id": "92a356ce",
   "metadata": {},
   "outputs": [
    {
     "data": {
      "text/plain": [
       "Selling_Price    1.000000\n",
       "Present_Price    0.878983\n",
       "Seller_Type      0.550724\n",
       "Kms_Driven       0.029187\n",
       "Owner           -0.088344\n",
       "Age             -0.236141\n",
       "Transmission    -0.367128\n",
       "Fuel_Type       -0.509467\n",
       "Name: Selling_Price, dtype: float64"
      ]
     },
     "execution_count": 196,
     "metadata": {},
     "output_type": "execute_result"
    }
   ],
   "source": [
    "corr_sel = df.corr()\n",
    "corr_sel['Selling_Price'].sort_values(ascending=False)"
   ]
  },
  {
   "cell_type": "code",
   "execution_count": 197,
   "id": "fa9b3e3a",
   "metadata": {},
   "outputs": [],
   "source": [
    "pres_kms = x['Present_Price'] * x['Kms_Driven']\n",
    "pres_kms2 = x['Present_Price'] * x['Kms_Driven2']\n",
    " \n",
    "pres_age = x['Present_Price'] * x['Age']\n",
    "pres_age2 = x['Present_Price'] * x['Age2']\n",
    "\n",
    "pres2_kms = x['Present_Price2'] * x['Kms_Driven']\n",
    "pres2_kms2 = x['Present_Price2'] * x['Kms_Driven2']\n",
    "\n",
    "pres2_age = x['Present_Price2'] * x['Age']\n",
    "pres2_age2 = x['Present_Price2'] * x['Age2']\n",
    "\n",
    "kms_age = x['Kms_Driven'] * x['Age']\n",
    "kms_age2 = x['Kms_Driven'] * x['Age2']\n",
    "\n",
    "kms2_age = x['Kms_Driven2'] * x['Age']\n",
    "kms2_age2 = x['Kms_Driven2'] * x['Age2']"
   ]
  },
  {
   "cell_type": "code",
   "execution_count": 198,
   "id": "3c10ea27",
   "metadata": {},
   "outputs": [],
   "source": [
    "x.insert (0, 'pres_kms', pres_kms)\n",
    "x.insert (0, 'pres_kms2', pres_kms2)\n",
    "\n",
    "x.insert (0, 'pres_age', pres_age)\n",
    "x.insert (0, 'pres_age2', pres_age2)\n",
    "x.insert (0, 'pres2_kms', pres2_kms)\n",
    "x.insert (0, 'pres2_kms2', pres2_kms2)\n",
    "\n",
    "x.insert (0, 'pres2_age', pres2_age)\n",
    "x.insert (0, 'pres2_age2', pres2_age2)\n",
    "\n",
    "x.insert (0, 'kms_age', kms_age)\n",
    "x.insert (0, 'kms_age2', kms_age2)\n",
    "\n",
    "x.insert (0, 'kms2_age', kms2_age)\n",
    "x.insert (0, 'kms2_age2', kms2_age2)"
   ]
  },
  {
   "cell_type": "code",
   "execution_count": 199,
   "id": "8bc20fdb",
   "metadata": {},
   "outputs": [
    {
     "data": {
      "text/plain": [
       "(301, 25)"
      ]
     },
     "execution_count": 199,
     "metadata": {},
     "output_type": "execute_result"
    }
   ],
   "source": [
    "x.shape"
   ]
  },
  {
   "cell_type": "code",
   "execution_count": 200,
   "id": "52729475",
   "metadata": {},
   "outputs": [
    {
     "name": "stdout",
     "output_type": "stream",
     "text": [
      "score :  0.9746655657037958\n"
     ]
    }
   ],
   "source": [
    "x_train , x_test , y_train , y_test = train_test_split (x,y, test_size=0.2, random_state=0)\n",
    "model = LinearRegression ()\n",
    "model.fit (x_train,y_train)\n",
    "y_pred = model.predict (x_test)\n",
    "print('score : ', metrics.r2_score(y_test,y_pred))"
   ]
  },
  {
   "cell_type": "markdown",
   "id": "6bfbecd9",
   "metadata": {},
   "source": [
    "### 97% Now it's great"
   ]
  },
  {
   "cell_type": "code",
   "execution_count": 201,
   "id": "f7066bd5",
   "metadata": {},
   "outputs": [
    {
     "name": "stdout",
     "output_type": "stream",
     "text": [
      "Intercept :\n",
      " [-0.05561762]\n",
      "Slopes :\n",
      " [[-1.05595073e-02  2.35402221e-02  1.23672279e-02 -4.20882153e-03\n",
      "  -2.99207263e-02  3.08201872e-02  1.16990079e-02 -3.18289532e-02\n",
      "   5.68557111e-02 -3.69465132e-01  3.34600647e-02 -1.01430415e-01\n",
      "   6.35669140e-04  9.00197203e-03 -1.67892559e-02  1.34875167e-02\n",
      "   5.10423844e-02  5.90962315e-02 -3.20158059e-01  8.60663344e-01\n",
      "  -1.04399018e-01 -9.10821033e-02  2.71213735e-02 -4.16193827e-03\n",
      "  -1.01753881e-02]]\n"
     ]
    }
   ],
   "source": [
    "print('Intercept :\\n',model.intercept_)      # receive the intercept of model\n",
    "print('Slopes :\\n',model.coef_)           # receive the coefficient of model"
   ]
  },
  {
   "cell_type": "markdown",
   "id": "aac10ee2",
   "metadata": {},
   "source": [
    "# Draw the result :"
   ]
  },
  {
   "cell_type": "code",
   "execution_count": 202,
   "id": "33ab77b7",
   "metadata": {},
   "outputs": [
    {
     "data": {
      "text/html": [
       "<div>\n",
       "<style scoped>\n",
       "    .dataframe tbody tr th:only-of-type {\n",
       "        vertical-align: middle;\n",
       "    }\n",
       "\n",
       "    .dataframe tbody tr th {\n",
       "        vertical-align: top;\n",
       "    }\n",
       "\n",
       "    .dataframe thead th {\n",
       "        text-align: right;\n",
       "    }\n",
       "</style>\n",
       "<table border=\"1\" class=\"dataframe\">\n",
       "  <thead>\n",
       "    <tr style=\"text-align: right;\">\n",
       "      <th></th>\n",
       "      <th>Actual</th>\n",
       "      <th>Predict</th>\n",
       "    </tr>\n",
       "  </thead>\n",
       "  <tbody>\n",
       "    <tr>\n",
       "      <th>0</th>\n",
       "      <td>0.707223</td>\n",
       "      <td>0.433885</td>\n",
       "    </tr>\n",
       "    <tr>\n",
       "      <th>1</th>\n",
       "      <td>-0.820063</td>\n",
       "      <td>-0.791860</td>\n",
       "    </tr>\n",
       "    <tr>\n",
       "      <th>2</th>\n",
       "      <td>0.116015</td>\n",
       "      <td>-0.132080</td>\n",
       "    </tr>\n",
       "    <tr>\n",
       "      <th>3</th>\n",
       "      <td>0.953559</td>\n",
       "      <td>0.994288</td>\n",
       "    </tr>\n",
       "    <tr>\n",
       "      <th>4</th>\n",
       "      <td>2.628647</td>\n",
       "      <td>2.702323</td>\n",
       "    </tr>\n",
       "  </tbody>\n",
       "</table>\n",
       "</div>"
      ],
      "text/plain": [
       "     Actual   Predict\n",
       "0  0.707223  0.433885\n",
       "1 -0.820063 -0.791860\n",
       "2  0.116015 -0.132080\n",
       "3  0.953559  0.994288\n",
       "4  2.628647  2.702323"
      ]
     },
     "execution_count": 202,
     "metadata": {},
     "output_type": "execute_result"
    }
   ],
   "source": [
    "df2 = pd.DataFrame ({'Actual': y_test.flatten(), 'Predict': y_pred.flatten()})\n",
    "df2.head()             # Comparison In between y_test and y_pred"
   ]
  },
  {
   "cell_type": "code",
   "execution_count": 203,
   "id": "79314a8a",
   "metadata": {},
   "outputs": [],
   "source": [
    "df1 = pd.DataFrame (x_test)        # Here we add y_pred and y_test to sort the data\n",
    "df1.insert (23, 'y_test', y_test)\n",
    "df1.insert (24, 'y_pred', y_pred)"
   ]
  },
  {
   "cell_type": "code",
   "execution_count": 204,
   "id": "9d962637",
   "metadata": {},
   "outputs": [],
   "source": [
    "df1.sort_values (by='Kms_Driven', inplace=True)   # sort data Based on Kms_Driven"
   ]
  },
  {
   "cell_type": "code",
   "execution_count": 205,
   "id": "18a1f2b4",
   "metadata": {},
   "outputs": [
    {
     "data": {
      "image/png": "[encoded data removed]",
      "text/plain": [
       "<Figure size 432x288 with 1 Axes>"
      ]
     },
     "metadata": {
      "needs_background": "light"
     },
     "output_type": "display_data"
    }
   ],
   "source": [
    "a = df1.Kms_Driven           # show result on scatter plot\n",
    "b = df1.y_test\n",
    "c = df1.Kms_Driven\n",
    "d = df1.y_pred\n",
    "plt.scatter (a,b)\n",
    "plt.plot (c,d, color=\"c\")\n",
    "plt.xlabel ('Kms_Driven')\n",
    "plt.ylabel ('Selling_Price')\n",
    "plt.title ('Kms_Driven VS Selling_Price')\n",
    "plt.grid ()\n",
    "plt.show()"
   ]
  },
  {
   "cell_type": "code",
   "execution_count": 206,
   "id": "19a4f72a",
   "metadata": {},
   "outputs": [],
   "source": [
    "df1.sort_values (by='Age', inplace=True)      # sort data Based on Age"
   ]
  },
  {
   "cell_type": "code",
   "execution_count": 207,
   "id": "778af88a",
   "metadata": {},
   "outputs": [
    {
     "data": {
      "image/png": "[encoded data removed]",
      "text/plain": [
       "<Figure size 432x288 with 1 Axes>"
      ]
     },
     "metadata": {
      "needs_background": "light"
     },
     "output_type": "display_data"
    }
   ],
   "source": [
    "a = df1.Age                    # show result on scatter plot\n",
    "b = df1.y_test\n",
    "c = df1.Age\n",
    "d = df1.y_pred\n",
    "plt.scatter (a,b)\n",
    "plt.plot (c,d, color='c')\n",
    "plt.xlabel ('Age')\n",
    "plt.ylabel ('Selling_Price')\n",
    "plt.title ('Age VS Selling_Price')\n",
    "plt.grid ()\n",
    "plt.show()"
   ]
  },
  {
   "cell_type": "code",
   "execution_count": 208,
   "id": "7411c819",
   "metadata": {},
   "outputs": [],
   "source": [
    "df1.sort_values (by='Present_Price', inplace=True)       # sort data Based on Present_Price"
   ]
  },
  {
   "cell_type": "code",
   "execution_count": 209,
   "id": "45e47844",
   "metadata": {},
   "outputs": [
    {
     "data": {
      "image/png": "[encoded data removed]",
      "text/plain": [
       "<Figure size 432x288 with 1 Axes>"
      ]
     },
     "metadata": {
      "needs_background": "light"
     },
     "output_type": "display_data"
    }
   ],
   "source": [
    "a = df1.Present_Price                 # show result on scatter plot\n",
    "b = df1.y_test\n",
    "c = df1.Present_Price\n",
    "d = df1.y_pred\n",
    "plt.scatter (a,b)\n",
    "plt.plot (c,d, color='c')\n",
    "plt.xlabel ('Present_Price')\n",
    "plt.ylabel ('Selling_Price')\n",
    "plt.title ('Present_Price VS Selling_Price')\n",
    "plt.grid ()\n",
    "plt.show()"
   ]
  },
  {
   "cell_type": "markdown",
   "id": "a6cc9bab",
   "metadata": {},
   "source": [
    "# We can see that the model was able to learn to act on the data well"
   ]
  },
  {
   "cell_type": "code",
   "execution_count": 215,
   "id": "3577e0bc",
   "metadata": {},
   "outputs": [
    {
     "data": {
      "image/png": "[encoded data removed]",
      "text/plain": [
       "<Figure size 432x288 with 1 Axes>"
      ]
     },
     "metadata": {
      "needs_background": "light"
     },
     "output_type": "display_data"
    }
   ],
   "source": [
    "plt.scatter (y_test,y_pred)      # Correlation between y_test and y_pred\n",
    "plt.xlabel ('y_test')\n",
    "plt.ylabel ('y_pred')\n",
    "plt.title ('y_test VS y_pred')\n",
    "plt.grid ()\n",
    "plt.show()"
   ]
  }
 ],
 "metadata": {
  "kernelspec": {
   "display_name": "Python 3",
   "language": "python",
   "name": "python3"
  },
  "language_info": {
   "codemirror_mode": {
    "name": "ipython",
    "version": 3
   },
   "file_extension": ".py",
   "mimetype": "text/x-python",
   "name": "python",
   "nbconvert_exporter": "python",
   "pygments_lexer": "ipython3",
   "version": "3.8.8"
  }
 },
 "nbformat": 4,
 "nbformat_minor": 5
}
